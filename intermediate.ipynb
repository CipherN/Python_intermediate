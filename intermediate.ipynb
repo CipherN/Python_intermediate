{
 "cells": [
  {
   "cell_type": "code",
   "execution_count": null,
   "metadata": {
    "collapsed": true
   },
   "outputs": [],
   "source": [
    "import this"
   ]
  },
  {
   "cell_type": "code",
   "execution_count": null,
   "metadata": {},
   "outputs": [],
   "source": [
    "names = ['Jeff', 'Gary', 'Jill', 'Samantha']\n",
    "for name in names:\n",
    "    # print(name, type(name))\n",
    "    # statement = \"Hello there \" + name\n",
    "    statement = \" \".join([\"Hello there \" + name])\n",
    "    print(statement)"
   ]
  },
  {
   "cell_type": "code",
   "execution_count": 58,
   "metadata": {},
   "outputs": [],
   "source": [
    "names = ['Jeff', 'Gary', 'Jill', 'Samantha']\n",
    "print(', '.join(names))"
   ]
  },
  {
   "cell_type": "code",
   "execution_count": 59,
   "metadata": {},
   "outputs": [],
   "source": [
    "import os\n",
    "location_of_files = '/Users/william/Desktop'\n",
    "file_name = 'example.text'\n",
    "\n",
    "with open(os.path.join(location_of_files, file_name)) as f:\n",
    "    print(f.read())"
   ]
  },
  {
   "cell_type": "code",
   "execution_count": 61,
   "metadata": {},
   "outputs": [
    {
     "name": "stdout",
     "output_type": "stream",
     "text": [
      "Gary brought 12 apples today!\n"
     ]
    }
   ],
   "source": [
    "# 完成____ brought ____ apples today! 的填空题\n",
    "who = 'Gary'\n",
    "how_many = 12\n",
    "print('{} brought {} apples today!'.format(who, how_many))"
   ]
  },
  {
   "cell_type": "code",
   "execution_count": 98,
   "metadata": {},
   "outputs": [
    {
     "name": "stdout",
     "output_type": "stream",
     "text": [
      "5\n"
     ]
    }
   ],
   "source": [
    "nums = [2, 4, 5, 7, 3, 4]\n",
    "num = len(set(nums))\n",
    "print(num)"
   ]
  },
  {
   "cell_type": "code",
   "execution_count": 3,
   "metadata": {},
   "outputs": [
    {
     "ename": "NameError",
     "evalue": "global name 'argparse' is not defined",
     "traceback": [
      "\u001b[0;31m\u001b[0m",
      "\u001b[0;31mNameError\u001b[0mTraceback (most recent call last)",
      "\u001b[0;32m<ipython-input-3-47811b2ccb37>\u001b[0m in \u001b[0;36m<module>\u001b[0;34m()\u001b[0m\n\u001b[1;32m     23\u001b[0m \u001b[0;34m\u001b[0m\u001b[0m\n\u001b[1;32m     24\u001b[0m \u001b[0;32mif\u001b[0m \u001b[0m__name__\u001b[0m \u001b[0;34m==\u001b[0m \u001b[0;34m\"__main__\"\u001b[0m\u001b[0;34m:\u001b[0m\u001b[0;34m\u001b[0m\u001b[0m\n\u001b[0;32m---> 25\u001b[0;31m     \u001b[0mmain\u001b[0m\u001b[0;34m(\u001b[0m\u001b[0;34m)\u001b[0m\u001b[0;34m\u001b[0m\u001b[0m\n\u001b[0m",
      "\u001b[0;32m<ipython-input-3-47811b2ccb37>\u001b[0m in \u001b[0;36mmain\u001b[0;34m()\u001b[0m\n\u001b[1;32m      1\u001b[0m \u001b[0;32mdef\u001b[0m \u001b[0mmain\u001b[0m\u001b[0;34m(\u001b[0m\u001b[0;34m)\u001b[0m\u001b[0;34m:\u001b[0m\u001b[0;34m\u001b[0m\u001b[0m\n\u001b[0;32m----> 2\u001b[0;31m     \u001b[0mparser\u001b[0m \u001b[0;34m=\u001b[0m \u001b[0margparse\u001b[0m\u001b[0;34m.\u001b[0m\u001b[0mArgumentParser\u001b[0m\u001b[0;34m(\u001b[0m\u001b[0;34m)\u001b[0m\u001b[0;34m\u001b[0m\u001b[0m\n\u001b[0m\u001b[1;32m      3\u001b[0m     parser.add_argument('--x', type=float, default=1,\n\u001b[1;32m      4\u001b[0m                         help='What is the first number?')\n\u001b[1;32m      5\u001b[0m     parser.add_argument('--y', type=float, default=10.5,\n",
      "\u001b[0;31mNameError\u001b[0m: global name 'argparse' is not defined"
     ],
     "output_type": "error"
    }
   ],
   "source": [
    "def main():\n",
    "    parser = argparse.ArgumentParser()\n",
    "    parser.add_argument('--x', type=float, default=1,\n",
    "                        help='What is the first number?')\n",
    "    parser.add_argument('--y', type=float, default=10.5,\n",
    "                        help='What is the second number?')\n",
    "    parser.add_argument('--operation', type=str, default='add',\n",
    "                        help='What operation do you choose? add, sub, mul or div')\n",
    "    args = parser.parse_args()\n",
    "    sys.stdout.write(str(calc(args)))\n",
    "\n",
    "\n",
    "def calc(args):\n",
    "    if args.operation == 'add':\n",
    "        return args.x + args.y\n",
    "    elif args.operation == 'sub':\n",
    "        return args.x - args.y\n",
    "    elif args.operation == 'mul':\n",
    "        return args.x * args.y\n",
    "    elif args.operation == 'div':\n",
    "        return args.x / args.y\n",
    "\n",
    "\n",
    "if __name__ == \"__main__\":\n",
    "    main()"
   ]
  },
  {
   "cell_type": "code",
   "execution_count": 9,
   "metadata": {},
   "outputs": [
    {
     "name": "stdout",
     "output_type": "stream",
     "text": [
      "[0, 1, 2, 3, 4]\n"
     ]
    }
   ],
   "source": [
    "xyz = (i for i in range (5000))\n",
    "print(list(xyz)[:5])"
   ]
  },
  {
   "cell_type": "code",
   "execution_count": 1,
   "metadata": {},
   "outputs": [
    {
     "name": "stdout",
     "output_type": "stream",
     "text": [
      "[0, 1, 2, 3, 4]\n"
     ]
    }
   ],
   "source": [
    "xyz = [i for i in range (5000)]\n",
    "print(xyz[:5])"
   ]
  },
  {
   "cell_type": "code",
   "execution_count": 20,
   "metadata": {},
   "outputs": [
    {
     "name": "stdout",
     "output_type": "stream",
     "text": [
      "[0, 1, 2, 3, 4]\n[0, 1, 2, 3, 4]\n[0, 1, 2, 3, 4]\n[0, 1, 2, 3, 4]\n[0, 1, 2, 3, 4]\n[0, 1, 2, 3, 4]\n[0, 1, 2, 3, 4]\n[0, 1, 2, 3, 4]\n[0, 1, 2, 3, 4]\n[0, 1, 2, 3, 4]\n0.0040624399998705485\n[0, 1, 2, 3, 4]\n[0, 1, 2, 3, 4]\n[0, 1, 2, 3, 4]\n[0, 1, 2, 3, 4]\n[0, 1, 2, 3, 4]\n[0, 1, 2, 3, 4]\n[0, 1, 2, 3, 4]\n[0, 1, 2, 3, 4]\n[0, 1, 2, 3, 4]\n[0, 1, 2, 3, 4]\n0.004453891000139265\n"
     ]
    }
   ],
   "source": [
    "from timeit import timeit\n",
    "\n",
    "\n",
    "def time_cal1():\n",
    "    x1 = (i for i in range(5000))\n",
    "    print(list(x1)[:5])\n",
    "\n",
    "t1 = timeit('time_cal1()','from __main__ import time_cal1', number=10)\n",
    "\n",
    "print(t1)\n",
    "\n",
    "def time_cal2():\n",
    "    x2 = [i for i in range(5000)]\n",
    "    print(x2[:5])\n",
    "\n",
    "t2 = timeit('time_cal2()','from __main__ import time_cal2', number=10)\n",
    "\n",
    "print(t2)"
   ]
  },
  {
   "cell_type": "code",
   "execution_count": 2,
   "metadata": {},
   "outputs": [
    {
     "name": "stdout",
     "output_type": "stream",
     "text": [
      "0.00045630299999999124\n"
     ]
    }
   ],
   "source": [
    "import timeit\n",
    "print(timeit.timeit('1+3', number=50000))"
   ]
  },
  {
   "cell_type": "code",
   "execution_count": 3,
   "metadata": {},
   "outputs": [
    {
     "name": "stdout",
     "output_type": "stream",
     "text": [
      "0.9064907430000027\n"
     ]
    },
    {
     "name": "stdout",
     "output_type": "stream",
     "text": [
      "0.7423514729999994\n"
     ]
    }
   ],
   "source": [
    "import timeit\n",
    "print(timeit.timeit('''input_list = range(100)\n",
    "\n",
    "def div_by_two(num):\n",
    "    if (num/2).is_integer():\n",
    "        return True\n",
    "    else:\n",
    "        return False\n",
    "# generator:\n",
    "# delete the list, try again to timeit comparing with list\n",
    "xyz = list(i for i in input_list if div_by_two(i))''', number=50000))\n",
    "\n",
    "\n",
    "print(timeit.timeit('''input_list = range(100)\n",
    "\n",
    "def div_by_two(num):\n",
    "    if (num/2).is_integer():\n",
    "        return True\n",
    "    else:\n",
    "        return False\n",
    "# list:                             \n",
    "# list is in theory faster since the list is in memory\n",
    "xyz = [i for i in input_list if div_by_two(i)]''', number=50000))"
   ]
  },
  {
   "cell_type": "code",
   "execution_count": 3,
   "metadata": {},
   "outputs": [],
   "source": [
    ""
   ]
  },
  {
   "cell_type": "code",
   "execution_count": 10,
   "metadata": {},
   "outputs": [],
   "source": []
  },
  {
   "cell_type": "code",
   "execution_count": 4,
   "metadata": {},
   "outputs": [],
   "source": []
  },
  {
   "cell_type": "code",
   "execution_count": 4,
   "metadata": {},
   "outputs": [],
   "source": []
  },
  {
   "cell_type": "code",
   "execution_count": 4,
   "metadata": {},
   "outputs": [],
   "source": []
  },
  {
   "cell_type": "code",
   "execution_count": null,
   "metadata": {},
   "outputs": [],
   "source": []
  }
 ],
 "metadata": {
  "kernelspec": {
   "display_name": "Python 3",
   "language": "python",
   "name": "python3"
  },
  "language_info": {
   "codemirror_mode": {
    "name": "ipython",
    "version": 3
   },
   "file_extension": ".py",
   "mimetype": "text/x-python",
   "name": "python",
   "nbconvert_exporter": "python",
   "pygments_lexer": "ipython3",
   "version": "3.7.1"
  }
 },
 "nbformat": 4,
 "nbformat_minor": 1
}
